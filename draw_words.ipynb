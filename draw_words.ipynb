{
 "cells": [
  {
   "cell_type": "code",
   "execution_count": 1,
   "metadata": {
    "collapsed": true
   },
   "outputs": [],
   "source": [
    "from PIL import Image"
   ]
  },
  {
   "cell_type": "code",
   "execution_count": 13,
   "metadata": {},
   "outputs": [
    {
     "name": "stdout",
     "output_type": "stream",
     "text": [
      "['阿', '啊', '锕', '呵', '吖']\n"
     ]
    }
   ],
   "source": [
    "import json\n",
    "from pprint import pprint\n",
    "\n",
    "with open('char.json') as f:\n",
    "    data = json.load(f)\n",
    "\n",
    "pprint(data[\"gbk\"][0:5])"
   ]
  },
  {
   "cell_type": "code",
   "execution_count": 33,
   "metadata": {},
   "outputs": [
    {
     "name": "stdout",
     "output_type": "stream",
     "text": [
      "<class 'str'>\n"
     ]
    },
    {
     "data": {
      "text/plain": [
       "b'\\xe9\\x98\\xbf'"
      ]
     },
     "execution_count": 33,
     "metadata": {},
     "output_type": "execute_result"
    }
   ],
   "source": [
    "print(type(data['gbk'][0]))\n",
    "data[\"gbk\"][0].encode('utf8')"
   ]
  },
  {
   "cell_type": "code",
   "execution_count": 92,
   "metadata": {},
   "outputs": [],
   "source": [
    "from PIL import Image, ImageFont, ImageDraw, ImageEnhance\n",
    "from matplotlib.pyplot import imshow\n",
    "import numpy as np\n",
    "\n",
    "%matplotlib inline\n",
    "\n",
    "fnt = ImageFont.truetype('heiti.ttc', 64)\n",
    "\n",
    "train_x = None\n",
    "\n",
    "\n",
    "for i in range(0,3):\n",
    "    source_img = Image.new(\"L\", (64, 64),(0))    \n",
    "    draw = ImageDraw.Draw(source_img)\n",
    "    draw.text((0,0), data[\"gbk\"][i], font=fnt, fill=(255))\n",
    "#     imshow(np.asarray(source_img), cmap='gray')\n",
    "#     source_img.save(\"outfile\"+str(i), \"png\")\n",
    "    source_img = np.asarray(source_img)\n",
    "    if train_x is None:\n",
    "        train_x = np.asarray([source_img])\n",
    "    else:\n",
    "        train_x = np.concatenate((train_x, np.asarray([source_img])), axis = 0)\n"
   ]
  },
  {
   "cell_type": "code",
   "execution_count": 93,
   "metadata": {},
   "outputs": [
    {
     "name": "stdout",
     "output_type": "stream",
     "text": [
      "(3, 64, 64)\n"
     ]
    }
   ],
   "source": [
    "print(train_x.shape)\n"
   ]
  },
  {
   "cell_type": "code",
   "execution_count": null,
   "metadata": {
    "collapsed": true
   },
   "outputs": [],
   "source": []
  }
 ],
 "metadata": {
  "kernelspec": {
   "display_name": "Python 3",
   "language": "python",
   "name": "python3"
  },
  "language_info": {
   "codemirror_mode": {
    "name": "ipython",
    "version": 3
   },
   "file_extension": ".py",
   "mimetype": "text/x-python",
   "name": "python",
   "nbconvert_exporter": "python",
   "pygments_lexer": "ipython3",
   "version": "3.6.5"
  }
 },
 "nbformat": 4,
 "nbformat_minor": 2
}
